{
  "cells": [
    {
      "cell_type": "markdown",
      "metadata": {
        "colab_type": "text",
        "id": "view-in-github"
      },
      "source": [
        "<a href=\"https://colab.research.google.com/github/helen-yao/assignment2/blob/main/CS_4774_Assignment_2.ipynb\" target=\"_parent\"><img src=\"https://colab.research.google.com/assets/colab-badge.svg\" alt=\"Open In Colab\"/></a>"
      ]
    },
    {
      "cell_type": "markdown",
      "metadata": {
        "id": "7cSXh8dy3_tf"
      },
      "source": [
        "# Assignment 2: Clustering California Housing with K-means"
      ]
    },
    {
      "cell_type": "markdown",
      "metadata": {
        "id": "Dp4lehex3_ti"
      },
      "source": [
        "### CS 4774 Machine Learning - Department of Computer Science - University of Virginia\n",
        "\"Tonight, more than 130,000 Californians will go to sleep homeless. That’s enough to fill Dodger Stadium, AT&T Park and Petco Park. The biggest culprit is rising housing costs. From 2000 to 2014, median rent in California increased by more than one-third, while real incomes for renters fell by 7 percent. Today, 1.5 million Californians spend more than half their income on housing. This crisis threatens not just low-income families but our entire economy, driving businesses to relocate to states in which their employees can afford to live. - **Business Insider, Sep 2018.**\"\n",
        "\n",
        "![Half of the homes in San Franciso is now one million or above](https://www.travelinusa.us/wp-content/uploads/sites/3/2017/11/Painted-Ladies-San-Francisco-01.jpg).\n",
        "\n",
        "In this assignment, you will attempt to cluster the California Housing by implementing and analyzing the k-means algorithm to the data. K-Means is one of the most popular clustering algorithms. K-means stores k-centroids that it uses to define clusters. A point is considered to be in a particular cluster if it is closer to that cluster's centroid than any other centroid. For references, you may refer to my lecture on K-means or Chapter 2 of the textbook if you need additional sample codes to help with your assignment. For deliverables, you must write code in Python and submit this Jupyter Notebook file (.ipynb) to earn a total of 100 pts. You will gain points depending on how you perform in the following sections.\n",
        "\n",
        "**Note**: In order for your assignment to be graded, you must save your Notebook filename under this format: **yourUvaUserId_assignment_2_kmeans.ipynb**.\n"
      ]
    },
    {
      "cell_type": "markdown",
      "metadata": {
        "id": "OLpK737R3_tk"
      },
      "source": [
        "---\n",
        "## 1. PRE-PROCESSING THE DATA (10 pts)\n",
        "\n",
        "Download the California Housing dataset from the below link. This dataset includes statistics about the median income, median age, average number of rooms per person, average number of persons in a household etc. The statistics were gathered per geographical block.\n",
        "\n",
        "**Data Acquiring:** Download the dataset from https://www.kaggle.com/camnugent/california-housing-prices\n",
        "\n",
        "**Data Discovery, Visualization, and Cleaning:** Fortunately, this step have been given to you from chapter 2. However, you should review them and write the code necessary for the purposes of this assignment."
      ]
    },
    {
      "cell_type": "code",
      "execution_count": 232,
      "metadata": {
        "id": "2WQ3-JIC3_tm"
      },
      "outputs": [
        {
          "name": "stdout",
          "output_type": "stream",
          "text": [
            "[-1.32783522  1.05254828  0.98214266 -0.8048191  -0.97247648 -0.9744286\n",
            " -0.97703285  2.34476576  2.12963148  0.          0.          0.\n",
            "  1.          0.        ]\n"
          ]
        }
      ],
      "source": [
        "# You might want to use the following package\n",
        "from pandas.plotting import scatter_matrix # optional\n",
        "from sklearn.impute import SimpleImputer\n",
        "from sklearn.preprocessing import LabelEncoder\n",
        "from sklearn.preprocessing import OneHotEncoder\n",
        "from sklearn.pipeline import Pipeline\n",
        "from sklearn.preprocessing import StandardScaler\n",
        "import numpy as np\n",
        "import pandas as pd\n",
        "from sklearn.preprocessing import OrdinalEncoder\n",
        "from sklearn.impute import SimpleImputer\n",
        "from sklearn.compose import ColumnTransformer\n",
        "imputer = SimpleImputer(strategy=\"median\")\n",
        "\n",
        "\n",
        "# to make this notebook's output stable across runs\n",
        "np.random.seed(42)\n",
        "\n",
        "# Your code goes here for this section, make sure you also include the output to answer the above questions.\n",
        "housing = pd.read_csv(\"housing.csv\")\n",
        "\n",
        "# print(housing.describe())\n",
        "\n",
        "# housing_cat = housing[[\"ocean_proximity\"]]\n",
        "\n",
        "# ordinal_encoder = OrdinalEncoder()\n",
        "# housing_cat_encoded = ordinal_encoder.fit_transform(housing_cat)\n",
        "# housing_cat_encoded[:10]\n",
        "\n",
        "# print(housing_cat_encoded)\n",
        "\n",
        "# housing_num = []\n",
        "# data = [housing[\"latitude\"],housing[\"longitude\"],housing[\"housing_median_age\"]]\n",
        "\n",
        "housing_num = housing.drop(\"ocean_proximity\", axis=1)\n",
        "\n",
        "num_attribs = list(housing_num)\n",
        "cat_attribs = [\"ocean_proximity\"]\n",
        "\n",
        "X = imputer.fit(housing_num)\n",
        "\n",
        "num_pipeline = Pipeline([\n",
        "        ('imputer', SimpleImputer(strategy=\"median\")),\n",
        "        ('std_scaler', StandardScaler()),\n",
        "    ])\n",
        "\n",
        "full_pipeline = ColumnTransformer([\n",
        "        (\"num\", num_pipeline, num_attribs),\n",
        "        (\"cat\", OneHotEncoder(sparse_output=False), cat_attribs),\n",
        "    ])\n",
        "\n",
        "data = full_pipeline.fit_transform(housing)\n",
        "\n",
        "# data = pd.DataFrame(X, columns=housing.columns, index=housing.index)\n",
        "# data.add(housing_cat)\n",
        "\n",
        "print(data[0])\n",
        "\n",
        "# print(housing_num)\n"
      ]
    },
    {
      "cell_type": "markdown",
      "metadata": {
        "id": "2ZFd6TC_3_ts"
      },
      "source": [
        "- - -\n",
        "## 2. IMPLEMENTING K-MEANS (40 pts)\n",
        "\n",
        "You must implement your own version of K-Means Algorithm. Input a cluster count K and M data points each with its own vector of N features, along with the choice of a distance measure; then:\n",
        "\n",
        "1. Initialize K centroids. In our case, a centroid is just the average of all data in a cluster.\n",
        "2. Assign each data point to the cluster that has the closest centroid base on a **distance measure** below.\n",
        "3. After all data points have been assigned to clusters, recalculate the centroids for each cluster (as averages of all points in the cluster).\n",
        "4. Repeat the data assignments and centroid calculations until no change in housing assignment occurs between iterations.\n",
        "\n",
        "**Distance Measures:** Your implementation must include three distance metrics: Manhattan Distance, Euclidean Distance, Sup Distance. These 3 distance metrics can be generalized by the Minkovski Distance:\n",
        "$D(\\mathbf{x},\\mathbf{y}) = \\sqrt[\\leftroot{2}\\uproot{2}p]{\\sum\\limits_{i=1}^n|x_i - y_i|^p}$ where $p=1$ for Mahattan, $p=2$ for Euclidean, and $p=\\infty$ for Sup Distance.\n",
        "\n",
        "**Implementation Notes:** Note that your functions should return distance measures; that is, the returned value should be high if the two vectors are dissimilar, low if they are similar, and zero if they are completely identical."
      ]
    },
    {
      "cell_type": "code",
      "execution_count": 249,
      "metadata": {
        "id": "SB89ZcCw3_tt"
      },
      "outputs": [],
      "source": [
        "# Function: K Means\n",
        "# -------------\n",
        "# K-Means is an algorithm that takes in a dataset and a constant\n",
        "# k and returns k centroids (which define clusters of data in the\n",
        "# dataset which are similar to one another).\n",
        "import random\n",
        "import numpy as np\n",
        "import math\n",
        "\n",
        "def k_means (data, k): #call this to implement the algorithm\n",
        "    old_centroids = []\n",
        "    for i in range(k):\n",
        "        random_i = random.randint(0,len(data)) #find random data point to intialize first centroids\n",
        "        old_centroids.append(data[random_i])\n",
        "    # print(len(old_centroids[0]))\n",
        "    clusters, new_centroids = calculate_points(data, old_centroids)\n",
        "    count = 1\n",
        "    while not equals(new_centroids, old_centroids) and count < 50: #keep going while centroids aren't changing\n",
        "        # print(count)\n",
        "        count +=1\n",
        "        old_centroids = new_centroids\n",
        "        clusters, new_centroids = calculate_points(data, new_centroids)\n",
        "    print(\"times to converge: \" ,count)\n",
        "    return clusters,new_centroids\n",
        "\n",
        "\n",
        "def calculate_points(data, centroids): #puts points to the closest centroid and returns an array of arrays, the inner array keeping track of all points in that particular cluster\n",
        "    clusters = []\n",
        "    # count = 0\n",
        "    for i in centroids:\n",
        "        clusters.append([])\n",
        "        # print(count)\n",
        "        # count+=1\n",
        "    for row_i in range(len(data)):\n",
        "        min_dist = 1000000\n",
        "        min_cen = -1\n",
        "        for index,cen in enumerate(centroids):\n",
        "            \n",
        "            dist = euclidean_distance(data[row_i],cen) #distance between point and centroid\n",
        "            if dist < min_dist:\n",
        "                min_dist = dist\n",
        "                min_cen = index\n",
        "        clusters[min_cen].append(data[row_i]) #add row to the right cluster\n",
        "\n",
        "    new_centroids = []\n",
        "\n",
        "    for centroid in clusters:\n",
        "        new_cen = []\n",
        "        for i in centroid[0]:\n",
        "            new_cen.append(0)\n",
        "        \n",
        "        for point in centroid:\n",
        "            # print(point)\n",
        "            for i,val in enumerate(point):\n",
        "                new_cen[i] += val\n",
        "        for i in range(len(new_cen)):\n",
        "            new_cen[i] = new_cen[i]/len(centroid)\n",
        "        # print(new_cen)\n",
        "        new_centroids.append(new_cen)\n",
        "\n",
        "    return clusters, new_centroids\n",
        "\n",
        "def euclidean_distance(point1, point2):\n",
        "    distance = 0.0\n",
        "    # print(\"length\", len(point1), len(point2))\n",
        "    for i in range(len(point2)):\n",
        "        distance += (point2[i] - point1[i]) ** 2\n",
        "    return math.sqrt(distance)\n",
        "\n",
        "def equals(arr1, arr2):\n",
        "    # print(arr1)\n",
        "    \n",
        "    for i in range(len(arr1)):\n",
        "        for j in range(len(arr1[0])):\n",
        "            if arr1[i][j] != arr2[i][j]:\n",
        "                return False\n",
        "    return True\n",
        "        \n",
        "# print(data[0])\n",
        "# k_means(data,2)"
      ]
    },
    {
      "cell_type": "markdown",
      "metadata": {
        "id": "t6vW6tyo3_tv"
      },
      "source": [
        "- - -\n",
        "## 3. CLUSTERING HOUSING INTO REGIONS (40 pts)\n",
        "\n",
        "Now that you have implemented the K-Means as the clustering algorithm. Applying the algorithm for k=2 clusters to see if you can split California into a Northern and Southern regions.\n",
        "\n",
        "* **Cluster the data:** Report the SSE (sum squared error), cluster means, within cluster standard deviations for each attribute, etc. Visualize the clustering by plot the latitude along the X axis and longitude along the Y axis. You should get a plot that looks roughly in the shape of California (see Chapter 2 for more details). Using the cluster means and std. deviations as representative values in the cluster, what can you say about the clusters that were found? How do they compare with what you know about cities and areas in California? What can you attribute the gaps to? It will definitely be helpful to have a map of California handy.\n",
        "\n",
        "* **Change the number of clusters:** Increase the value of k from 2 to 3,4,..,10 and repeat the clustering process above. Record cluster means and standard deviations. When you change k, do any additional patterns emerge? If so, what are they? Applying the algorithm for 10 clusters to see if it clearly identified the silicon valley area as one cluster (where houses are relatively new and expensive, median income is high), the area of San Francisco as another etc. While SF and Silicon Valley may have a somewhat similar profile (at least, compared with mid CA), they were separated mainly due to the latitude/longtitue properties, that involve a dimension of geographical cohesiveness.\n",
        "\n",
        "* **Plot the SSE over different number of cluster:** As referenced in the \"elbow plot \" in the lecture, you will reproduce the plot with different number of k, then determine which k produces a result that works best.\n",
        "\n"
      ]
    },
    {
      "cell_type": "markdown",
      "metadata": {},
      "source": [
        "The initial clusters that were found with k=2 split the points into roughly north and south. Clustering other k values changes the plot to having some of the clusters along the coast, which makes sense with what I know about California, given there are a couple big cities along the coast. The gaps in the data are attributed to there being no homes in those areas, so more of the rural areas. The error seems to go down as the k increases. The best k seems to be 6."
      ]
    },
    {
      "cell_type": "code",
      "execution_count": 250,
      "metadata": {
        "id": "Vi058vv73_tw"
      },
      "outputs": [
        {
          "name": "stdout",
          "output_type": "stream",
          "text": [
            "times to converge:  12\n",
            "times to converge:  50\n",
            "squared error for k= 3: 69287.52558869922\n",
            "mean:  [[np.float64(0.7189633344069426), np.float64(-0.7778081618896973), np.float64(0.7977192193883429), np.float64(-0.5046957504289223), np.float64(-0.43830352063277417), np.float64(-0.2900459915473992), np.float64(-0.42719657702238295), np.float64(-0.42883316025110757), np.float64(-0.34264304127005357), np.float64(0.7536450477626948), np.float64(0.1322272498743087), np.float64(0.0005027652086475615), np.float64(0.0), np.float64(0.11362493715434892)], [np.float64(-0.49230791472932567), np.float64(0.228654913822066), np.float64(-0.005646718665544881), np.float64(0.06299823434525705), np.float64(-0.35545565934151757), np.float64(-0.33074173274784086), np.float64(-0.3317305835402353), np.float64(2.864088255229817), np.float64(2.1612011938554927), np.float64(0.5239766081871345), np.float64(0.07602339181286549), np.float64(0.0), np.float64(0.2198830409356725), np.float64(0.18011695906432748)], [np.float64(0.6897162025219844), np.float64(-0.8210827571825571), np.float64(0.110502134778983), np.float64(-0.13022973283659225), np.float64(-0.28563965658627777), np.float64(-0.33554235878777006), np.float64(-0.2659860343247629), np.float64(0.8738192312077283), np.float64(1.2508849009528644), np.float64(0.7812773403324584), np.float64(0.05468066491688539), np.float64(0.0013123359580052493), np.float64(0.0), np.float64(0.16272965879265092)], [np.float64(-0.7656078716000342), np.float64(1.1709783256710407), np.float64(-0.20009172834728717), np.float64(-0.4462944547916955), np.float64(-0.4566673035638924), np.float64(-0.47394029966029977), np.float64(-0.493851906010799), np.float64(-0.5867731327662735), np.float64(-0.8774399302081269), np.float64(0.05692219679633867), np.float64(0.8761441647597255), np.float64(0.0), np.float64(0.04061784897025172), np.float64(0.02631578947368421)], [np.float64(-1.0920608595357109), np.float64(1.0300325982076648), np.float64(-0.7190711792387916), np.float64(0.5479090406115216), np.float64(0.5098098047142794), np.float64(0.44612095435325844), np.float64(0.5380258267546618), np.float64(0.11364873943244237), np.float64(-0.006866245526441982), np.float64(0.32335623159960747), np.float64(0.39254170755642787), np.float64(0.0), np.float64(0.1800785083415113), np.float64(0.10402355250245339)], [np.float64(0.9849980605767601), np.float64(-0.8661600207032203), np.float64(-0.7726012415399452), np.float64(-0.303502105050878), np.float64(-0.25984989007641496), np.float64(-0.2640667041130426), np.float64(-0.28919558216718705), np.float64(-0.3073301976314932), np.float64(-0.5097606825920205), np.float64(0.34021922428330525), np.float64(0.4211635750421585), np.float64(0.0), np.float64(0.0), np.float64(0.23861720067453626)], [np.float64(0.8149929922558544), np.float64(-0.8089531570177124), np.float64(-0.4872343663454714), np.float64(0.618692259691529), np.float64(0.8279709068374602), np.float64(0.8644714586399233), np.float64(0.8369431777474373), np.float64(-0.19618488759846353), np.float64(-0.0894902603826482), np.float64(0.631578947368421), np.float64(0.22791353383458646), np.float64(0.0), np.float64(0.0), np.float64(0.14050751879699247)], [np.float64(0.3205925878939016), np.float64(-0.258252504800764), np.float64(-1.4521639309726246), np.float64(6.618563070066867), np.float64(6.262772550191874), np.float64(6.076171532049434), np.float64(6.234789004278498), np.float64(0.4415755943736995), np.float64(0.14255141963082546), np.float64(0.44155844155844154), np.float64(0.4025974025974026), np.float64(0.0), np.float64(0.06493506493506493), np.float64(0.09090909090909091)], [np.float64(0.16446629270682622), np.float64(-0.13833433627043318), np.float64(-0.9905721508863424), np.float64(2.4956921051402463), np.float64(2.593015706820296), np.float64(2.356886055615019), np.float64(2.5878892957680173), np.float64(0.1933871362928658), np.float64(0.11489690235506855), np.float64(0.4502487562189055), np.float64(0.3756218905472637), np.float64(0.0), np.float64(0.08830845771144279), np.float64(0.08582089552238806)], [np.float64(-1.3309377660639272), np.float64(0.992346784202447), np.float64(1.0412727902003138), np.float64(-0.3666813513147328), np.float64(-0.37043692822454416), np.float64(-0.4320119002670766), np.float64(-0.36172096738879117), np.float64(0.000900594061898103), np.float64(0.4042962053475881), np.float64(0.18386714116251482), np.float64(0.049031237643337285), np.float64(0.0), np.float64(0.597864768683274), np.float64(0.16923685251087386)]]\n",
            "Std:  [np.float64(0.6097534983163254), np.float64(1.1562628340340837), np.float64(0.7152916038726892), np.float64(0.7135605831978037), np.float64(0.732612222748385), np.float64(0.6476836038149152), np.float64(0.7146383350047361), np.float64(3.2022704388303556), np.float64(1.3813950233662244), np.float64(0.7636199342610104)]\n",
            "times to converge:  50\n",
            "squared error for k= 4: 70622.0891213823\n",
            "mean:  [[np.float64(0.8514902536340927), np.float64(-0.9052167136189277), np.float64(-0.847403358086714), np.float64(-0.20187774377314519), np.float64(-0.25512836081259715), np.float64(-0.25054071328196964), np.float64(-0.25723812946422403), np.float64(0.24285991572365626), np.float64(0.034291729102186294), np.float64(0.6053357865685373), np.float64(0.15547378104875806), np.float64(0.00045998160073597056), np.float64(0.0), np.float64(0.23873045078196872)], [np.float64(-0.9511628922764306), np.float64(1.2511081944914135), np.float64(-0.7832948255245398), np.float64(-0.054013979416768616), np.float64(-0.06429021299808743), np.float64(-0.12324420040782347), np.float64(-0.09396438996211892), np.float64(-0.3038730499952647), np.float64(-0.5889904927519695), np.float64(0.14856429463171036), np.float64(0.7247191011235955), np.float64(0.0), np.float64(0.08551810237203496), np.float64(0.04119850187265917)], [np.float64(-1.289282862328819), np.float64(0.9170719117748266), np.float64(0.259566808474114), np.float64(0.010928672988082123), np.float64(-0.16950271386678534), np.float64(-0.22269721022256073), np.float64(-0.13592058146441513), np.float64(1.122181071804905), np.float64(1.3700947897479134), np.float64(0.32591414944356123), np.float64(0.05352411234764176), np.float64(0.0), np.float64(0.42183359830418654), np.float64(0.1987281399046105)], [np.float64(0.703901501174762), np.float64(-0.8062327734516149), np.float64(0.7987130518887163), np.float64(-0.4825834008197815), np.float64(-0.4210209045784906), np.float64(-0.2949141945339175), np.float64(-0.4064212037267437), np.float64(-0.317943917319047), np.float64(-0.13930612119928534), np.float64(0.8467558697298662), np.float64(0.02903307245645039), np.float64(0.001009845998485231), np.float64(0.0), np.float64(0.12320121181519818)], [np.float64(0.3461830201126868), np.float64(-0.2769463745161196), np.float64(-1.4178425107934358), np.float64(6.260807337031365), np.float64(5.93315101398931), np.float64(5.8031798406445345), np.float64(5.949989382246126), np.float64(0.41207699477735515), np.float64(0.15169433569115118), np.float64(0.4419889502762431), np.float64(0.39226519337016574), np.float64(0.0), np.float64(0.0718232044198895), np.float64(0.09392265193370165)], [np.float64(0.7954305311453188), np.float64(-0.7984242624888841), np.float64(-0.45162351996183825), np.float64(0.5677713865364523), np.float64(0.7999109925593061), np.float64(0.844411264418012), np.float64(0.8068511077405792), np.float64(-0.27345248342835127), np.float64(-0.1311316372361094), np.float64(0.6114738805970149), np.float64(0.22621268656716417), np.float64(0.0), np.float64(0.0), np.float64(0.1623134328358209)], [np.float64(0.6773431539490788), np.float64(-0.3311592506882914), np.float64(-0.034776509779019776), np.float64(-0.4444191756233007), np.float64(-0.4090800476171511), np.float64(-0.34338647529590705), np.float64(-0.43871085108785723), np.float64(-0.7504038416147163), np.float64(-1.02297634368709), np.float64(0.02616123865456487), np.float64(0.9038974906567004), np.float64(0.0), np.float64(0.0), np.float64(0.06994127068873465)], [np.float64(0.6791840239275755), np.float64(-0.8143449005231458), np.float64(0.18129840171299313), np.float64(-0.0062900052912319565), np.float64(-0.26538313960443116), np.float64(-0.3338129551133317), np.float64(-0.25112449067004267), np.float64(1.6747187145465154), np.float64(1.8807479220567576), np.float64(0.758957654723127), np.float64(0.05928338762214984), np.float64(0.0), np.float64(0.0), np.float64(0.18175895765472314)], [np.float64(-0.08162144450499487), np.float64(0.08243803927393796), np.float64(-0.9490143612083003), np.float64(2.1935156437702763), np.float64(2.265125855821251), np.float64(2.0418123726415), np.float64(2.2763479026752798), np.float64(0.2021442886820336), np.float64(0.13523817843216784), np.float64(0.4261201143946616), np.float64(0.36987607244995235), np.float64(0.0), np.float64(0.11725452812202097), np.float64(0.08674928503336511)], [np.float64(-1.1977748798219812), np.float64(1.127703611925239), np.float64(1.0280001131023129), np.float64(-0.49643623375933876), np.float64(-0.4723807571814246), np.float64(-0.5011983425612169), np.float64(-0.47907680917318024), np.float64(-0.4855957570250031), np.float64(-0.4103687936197465), np.float64(0.12272036474164134), np.float64(0.3598024316109423), np.float64(0.0), np.float64(0.41185410334346506), np.float64(0.10562310030395136)]]\n",
            "Std:  [np.float64(0.629126240533025), np.float64(0.7168595504259913), np.float64(0.8593716173544818), np.float64(0.6051005707272055), np.float64(3.0688598837200862), np.float64(0.7056422160610553), np.float64(0.6413563557456738), np.float64(0.9213061364170517), np.float64(1.2598973646735758), np.float64(0.7617255174627555)]\n",
            "times to converge:  50\n",
            "squared error for k= 5: 69304.73825333263\n",
            "mean:  [[np.float64(-0.7598171684507724), np.float64(1.165900084631036), np.float64(-0.18177879284596532), np.float64(-0.4612366757726428), np.float64(-0.4710644434931606), np.float64(-0.48671886771040174), np.float64(-0.5088882190112799), np.float64(-0.5977180754314945), np.float64(-0.8842467791069457), np.float64(0.054385964912280704), np.float64(0.8792397660818714), np.float64(0.0), np.float64(0.04093567251461988), np.float64(0.02543859649122807)], [np.float64(-1.081743812920574), np.float64(1.0338164137928738), np.float64(-0.7382275711289433), np.float64(0.4957691197305137), np.float64(0.4517276545445413), np.float64(0.3987755414911941), np.float64(0.477340425153635), np.float64(0.10727084814073451), np.float64(-0.044404434270432995), np.float64(0.3261176470588235), np.float64(0.4042352941176471), np.float64(0.0), np.float64(0.1703529411764706), np.float64(0.09929411764705882)], [np.float64(-0.6291399899364905), np.float64(0.34347890014814186), np.float64(0.012157931063740742), np.float64(0.013509301943281801), np.float64(-0.38631520450410217), np.float64(-0.3586796842905094), np.float64(-0.35924374597288944), np.float64(2.7904503229677764), np.float64(2.122218838794063), np.float64(0.492379835873388), np.float64(0.06916764361078546), np.float64(0.0), np.float64(0.24970691676436108), np.float64(0.18874560375146543)], [np.float64(0.14136936173515022), np.float64(-0.11925426492188577), np.float64(-0.9775774700819158), np.float64(2.4341168282172068), np.float64(2.531991916553379), np.float64(2.2918384526719833), np.float64(2.529794665635898), np.float64(0.19054954114738995), np.float64(0.1315784212542407), np.float64(0.44895591647331784), np.float64(0.37470997679814383), np.float64(0.0), np.float64(0.09164733178654293), np.float64(0.08468677494199536)], [np.float64(-1.3302627657290134), np.float64(0.9927653397281865), np.float64(1.0867166100662362), np.float64(-0.3598598725046874), np.float64(-0.3558690332062678), np.float64(-0.4227736142954628), np.float64(-0.3476763539096706), np.float64(-0.03506423431282627), np.float64(0.38332308734355275), np.float64(0.17270875763747454), np.float64(0.05091649694501019), np.float64(0.0), np.float64(0.605295315682281), np.float64(0.1710794297352342)], [np.float64(0.32448066353358335), np.float64(-0.2616061093110939), np.float64(-1.4492745462970742), np.float64(6.6073708209511315), np.float64(6.24583007971045), np.float64(6.068336035487782), np.float64(6.22027277115686), np.float64(0.4433361907296862), np.float64(0.14056632227725985), np.float64(0.44516129032258067), np.float64(0.4), np.float64(0.0), np.float64(0.06451612903225806), np.float64(0.09032258064516129)], [np.float64(0.8207834877819887), np.float64(-0.8093335013419477), np.float64(-0.4677314413835044), np.float64(0.5766969525708517), np.float64(0.7911079514812467), np.float64(0.8354053328659894), np.float64(0.7995074541799595), np.float64(-0.22551198614921705), np.float64(-0.12654343721201694), np.float64(0.6205479452054794), np.float64(0.23515981735159816), np.float64(0.0), np.float64(0.0), np.float64(0.14429223744292238)], [np.float64(0.692098400380523), np.float64(-0.8229613045821762), np.float64(0.07946607519893918), np.float64(-0.09086168798076773), np.float64(-0.26401391393945356), np.float64(-0.3169138922189523), np.float64(-0.24541082447712328), np.float64(0.9479895033627938), np.float64(1.3200237609692465), np.float64(0.7778276481149012), np.float64(0.05655296229802514), np.float64(0.0013464991023339318), np.float64(0.0), np.float64(0.16427289048473967)], [np.float64(0.9867638238382901), np.float64(-0.8716624417918896), np.float64(-0.7685541938387067), np.float64(-0.3290182223891365), np.float64(-0.28743957909547424), np.float64(-0.2937220234248692), np.float64(-0.3172539262454058), np.float64(-0.2977608108210025), np.float64(-0.4954146171272047), np.float64(0.3471746575342466), np.float64(0.413527397260274), np.float64(0.0), np.float64(0.0), np.float64(0.23929794520547945)], [np.float64(0.7178748905374026), np.float64(-0.7791127583982455), np.float64(0.8023133563378463), np.float64(-0.5025992272963573), np.float64(-0.44054302149927943), np.float64(-0.2969203726095857), np.float64(-0.4287441353553422), np.float64(-0.40676720327606525), np.float64(-0.3173879698604175), np.float64(0.7604581673306773), np.float64(0.1267430278884462), np.float64(0.00049800796812749), np.float64(0.0), np.float64(0.112300796812749)]]\n",
            "Std:  [np.float64(0.7141221391994912), np.float64(0.7230732555978592), np.float64(1.1500543303950168), np.float64(1.3583859198598538), np.float64(0.762997036814798), np.float64(3.19633265960873), np.float64(0.7044985790241142), np.float64(0.7325605114964446), np.float64(0.6480722779508209), np.float64(0.6089306104649265)]\n",
            "times to converge:  50\n",
            "squared error for k= 6: 69288.42571334865\n",
            "mean:  [[np.float64(0.6889689185211039), np.float64(-0.8201734613673235), np.float64(0.10709755614822944), np.float64(-0.1337368213263929), np.float64(-0.28764529907603864), np.float64(-0.33666757198810654), np.float64(-0.2679144914625875), np.float64(0.8637646021996455), np.float64(1.2402949047840122), np.float64(0.7807860262008733), np.float64(0.05502183406113537), np.float64(0.0013100436681222707), np.float64(0.0), np.float64(0.162882096069869)], [np.float64(-0.766235891326975), np.float64(1.1724714271974095), np.float64(-0.19708539158387553), np.float64(-0.44665977785014965), np.float64(-0.45677834547877977), np.float64(-0.4740088673003288), np.float64(-0.49405899500107026), np.float64(-0.5908853593440798), np.float64(-0.8792276897283324), np.float64(0.05561926605504587), np.float64(0.8767201834862385), np.float64(0.0), np.float64(0.04128440366972477), np.float64(0.026376146788990827)], [np.float64(0.7193920534570628), np.float64(-0.7779318056037802), np.float64(0.7968336417570052), np.float64(-0.5040419701809067), np.float64(-0.4371394743929134), np.float64(-0.2890229450280756), np.float64(-0.4261585014820003), np.float64(-0.4302112478792406), np.float64(-0.3445740344458488), np.float64(0.7517587939698492), np.float64(0.13316582914572864), np.float64(0.0005025125628140704), np.float64(0.0), np.float64(0.11457286432160804)], [np.float64(0.3205925878939016), np.float64(-0.258252504800764), np.float64(-1.4521639309726246), np.float64(6.618563070066867), np.float64(6.262772550191874), np.float64(6.076171532049434), np.float64(6.234789004278498), np.float64(0.4415755943736995), np.float64(0.14255141963082546), np.float64(0.44155844155844154), np.float64(0.4025974025974026), np.float64(0.0), np.float64(0.06493506493506493), np.float64(0.09090909090909091)], [np.float64(-1.330161362820798), np.float64(0.9916270451567946), np.float64(1.0286881835958104), np.float64(-0.3666296719923618), np.float64(-0.37254214452007445), np.float64(-0.43304213817697784), np.float64(-0.3635154708577019), np.float64(0.012466095830027073), np.float64(0.4096463719609869), np.float64(0.18767177071063998), np.float64(0.04946996466431095), np.float64(0.0), np.float64(0.5944248135060856), np.float64(0.1684334511189635)], [np.float64(-1.089979767812511), np.float64(1.0304108270315562), np.float64(-0.7189525159911104), np.float64(0.5506263124514754), np.float64(0.5118228620192781), np.float64(0.44711967407479686), np.float64(0.5401418820803459), np.float64(0.1160338032938399), np.float64(-0.008018828142922863), np.float64(0.3220753793441018), np.float64(0.39500734214390604), np.float64(0.0), np.float64(0.18012726382770436), np.float64(0.1027900146842878)], [np.float64(0.8148526077242331), np.float64(-0.8098851478715144), np.float64(-0.4883351667234757), np.float64(0.6218423669390113), np.float64(0.830452466407387), np.float64(0.8668992113719529), np.float64(0.8399091349483391), np.float64(-0.1925697237603044), np.float64(-0.08546787851289198), np.float64(0.6325668700140779), np.float64(0.22759267949319567), np.float64(0.0), np.float64(0.0), np.float64(0.13984045049272642)], [np.float64(0.164665824103274), np.float64(-0.13831979649638307), np.float64(-0.991348766469237), np.float64(2.502692658063563), np.float64(2.601357184107), np.float64(2.363600886798691), np.float64(2.595088283648914), np.float64(0.1931388353613767), np.float64(0.11480337709599601), np.float64(0.451693851944793), np.float64(0.3739021329987453), np.float64(0.0), np.float64(0.08782936010037641), np.float64(0.08657465495608532)], [np.float64(-0.465710513495433), np.float64(0.20200566764304803), np.float64(0.010561506325346975), np.float64(0.0646568515428473), np.float64(-0.35509469793822845), np.float64(-0.33150447683451817), np.float64(-0.33220563085980126), np.float64(2.8833213933601645), np.float64(2.1851105758484635), np.float64(0.5294811320754716), np.float64(0.07075471698113207), np.float64(0.0), np.float64(0.2169811320754717), np.float64(0.18278301886792453)], [np.float64(0.9840486611173636), np.float64(-0.8642852334336698), np.float64(-0.7769017655405651), np.float64(-0.30258677806832374), np.float64(-0.25882561538535875), np.float64(-0.2631883673929395), np.float64(-0.28844285573117384), np.float64(-0.3091469089105966), np.float64(-0.5137189949001961), np.float64(0.33911939034716343), np.float64(0.4229466553767993), np.float64(0.0), np.float64(0.0), np.float64(0.23793395427603725)]]\n",
            "Std:  [np.float64(0.7133106002390318), np.float64(0.7137670313405265), np.float64(0.6096950475953117), np.float64(3.2022704388303556), np.float64(0.7633941965218868), np.float64(0.7331445401667477), np.float64(0.7155489271140184), np.float64(1.3843116596940335), np.float64(1.160345828523895), np.float64(0.6477722817186164)]\n",
            "times to converge:  50\n",
            "squared error for k= 7: 69464.47249362095\n",
            "mean:  [[np.float64(0.3230021364920552), np.float64(-0.29785851552876064), np.float64(-0.9633014352367438), np.float64(2.313494700828887), np.float64(2.4416517472313934), np.float64(2.2186195265040647), np.float64(2.426283882964876), np.float64(0.15733358724589064), np.float64(0.1222100344675568), np.float64(0.48605150214592274), np.float64(0.35085836909871243), np.float64(0.0), np.float64(0.06759656652360516), np.float64(0.09549356223175966)], [np.float64(-1.3053634886980345), np.float64(0.9350919774009455), np.float64(0.4970165414713683), np.float64(-0.1890226525273783), np.float64(-0.31337344963756936), np.float64(-0.36651514304919297), np.float64(-0.28837206593646963), np.float64(0.7287497499120413), np.float64(1.1558013975566228), np.float64(0.2766304347826087), np.float64(0.05543478260869565), np.float64(0.0), np.float64(0.4652173913043478), np.float64(0.20271739130434782)], [np.float64(-0.6846630803751654), np.float64(1.096954768564657), np.float64(-0.6901884096348251), np.float64(-0.37390897271858425), np.float64(-0.4025232731721087), np.float64(-0.4226338167368496), np.float64(-0.4469550934203535), np.float64(-0.450125280820604), np.float64(-0.8014803804091599), np.float64(0.07147912243453644), np.float64(0.8711960368011323), np.float64(0.0), np.float64(0.03255484784147204), np.float64(0.024769992922859165)], [np.float64(0.863389678565115), np.float64(-0.8323262414918048), np.float64(-0.5628785619778793), np.float64(0.3643794433858516), np.float64(0.5399698106530499), np.float64(0.5711788794761182), np.float64(0.5328031998743352), np.float64(-0.2524057739484724), np.float64(-0.23680996612015076), np.float64(0.5548320767649074), np.float64(0.2721041809458533), np.float64(0.0), np.float64(0.0), np.float64(0.1730637422892392)], [np.float64(0.7039478748030514), np.float64(-0.82393698512651), np.float64(0.07270196714832013), np.float64(-0.19179893332242492), np.float64(-0.31729223168493076), np.float64(-0.36148676391164614), np.float64(-0.298667251137082), np.float64(0.6987646713750334), np.float64(0.9928073311721678), np.float64(0.7796052631578947), np.float64(0.0668859649122807), np.float64(0.0010964912280701754), np.float64(0.0), np.float64(0.1524122807017544)], [np.float64(-1.1630706973459113), np.float64(1.1316412156006899), np.float64(1.0715596722985574), np.float64(-0.48537480984902853), np.float64(-0.4518631302337734), np.float64(-0.4768036489112187), np.float64(-0.45752233493694966), np.float64(-0.5906703351096976), np.float64(-0.5757158938307154), np.float64(0.12578334825425247), np.float64(0.39346463742166515), np.float64(0.0), np.float64(0.39973142345568485), np.float64(0.0810205908683975)], [np.float64(0.8058648396694178), np.float64(-0.806138475789451), np.float64(0.4867110743538627), np.float64(-0.529755210779143), np.float64(-0.46277583122376076), np.float64(-0.336648347867028), np.float64(-0.4613161222964447), np.float64(-0.4959194637893383), np.float64(-0.4706046166610415), np.float64(0.6261682242990654), np.float64(0.2230246389124894), np.float64(0.0004248088360237893), np.float64(0.0), np.float64(0.1503823279524214)], [np.float64(-1.099901988252407), np.float64(1.051929314576943), np.float64(-0.6703961903348907), np.float64(0.7120130174333096), np.float64(0.7134326656924032), np.float64(0.6287986307954291), np.float64(0.7465928983767921), np.float64(0.008230914773001472), np.float64(-0.07526417436209695), np.float64(0.28884711779448624), np.float64(0.40350877192982454), np.float64(0.0), np.float64(0.19674185463659147), np.float64(0.11090225563909774)], [np.float64(0.1426371943310105), np.float64(-0.33389552728936583), np.float64(-0.01044904329854621), np.float64(0.15173625759106413), np.float64(-0.3047612112594038), np.float64(-0.2876157588239829), np.float64(-0.28733649401985517), np.float64(3.1697384850577284), np.float64(2.3172519009546066), np.float64(0.6647314949201741), np.float64(0.06821480406386067), np.float64(0.0), np.float64(0.08708272859216255), np.float64(0.1799709724238026)], [np.float64(0.32155928374896325), np.float64(-0.2580833125904242), np.float64(-1.4336790476445698), np.float64(6.504905853403385), np.float64(6.152490147568783), np.float64(6.012732067477444), np.float64(6.181557496115724), np.float64(0.412916247950498), np.float64(0.15149539777698937), np.float64(0.4472049689440994), np.float64(0.391304347826087), np.float64(0.0), np.float64(0.07453416149068323), np.float64(0.08695652173913043)]]\n",
            "Std:  [np.float64(1.31898972787824), np.float64(0.7888427218950712), np.float64(0.6838078560937194), np.float64(0.6710975634888253), np.float64(0.6829358381291346), np.float64(0.7609376064915375), np.float64(0.6266201713703679), np.float64(0.7603576214868857), np.float64(1.2014542260327843), np.float64(3.168554969861196)]\n",
            "times to converge:  50\n",
            "squared error for k= 8: 69459.71160409549\n",
            "mean:  [[np.float64(0.3223804738207014), np.float64(-0.29286333717972357), np.float64(-0.9802870964597852), np.float64(2.357323250174089), np.float64(2.474722277842746), np.float64(2.2506066204876034), np.float64(2.4571543381216867), np.float64(0.1680649446637591), np.float64(0.11837682200207002), np.float64(0.4795127353266888), np.float64(0.3588039867109635), np.float64(0.0), np.float64(0.06866002214839424), np.float64(0.09302325581395349)], [np.float64(-1.1011313593686558), np.float64(1.0514019424041845), np.float64(-0.6664263587566877), np.float64(0.7182388015597644), np.float64(0.7231146896802653), np.float64(0.6338317851096954), np.float64(0.7564330567513624), np.float64(0.006147845792823011), np.float64(-0.06907156606284819), np.float64(0.28669581511555275), np.float64(0.40162398500936913), np.float64(0.0), np.float64(0.19800124921923798), np.float64(0.1136789506558401)], [np.float64(0.7040583007799777), np.float64(-0.8235193477597242), np.float64(0.0770190315186506), np.float64(-0.19400092450618897), np.float64(-0.3169121113020982), np.float64(-0.36021847190057144), np.float64(-0.29840217721553924), np.float64(0.6841083362983038), np.float64(0.975117875729669), np.float64(0.7802397384671268), np.float64(0.06792589901925172), np.float64(0.0010897203051216855), np.float64(0.0), np.float64(0.1507446422084998)], [np.float64(-1.1744524870751445), np.float64(1.133400015920367), np.float64(1.0885277993884446), np.float64(-0.4794593779715378), np.float64(-0.4466037606314177), np.float64(-0.474738555224699), np.float64(-0.451487800672555), np.float64(-0.5775495577721048), np.float64(-0.5539701601128345), np.float64(0.12466246624662466), np.float64(0.38028802880288026), np.float64(0.0), np.float64(0.4126912691269127), np.float64(0.08235823582358236)], [np.float64(0.8639798291104651), np.float64(-0.8323933704094159), np.float64(-0.5619653636651917), np.float64(0.3786581906673467), np.float64(0.5571767303741377), np.float64(0.5862792082835312), np.float64(0.5502953432503165), np.float64(-0.24952383610963996), np.float64(-0.22987194945163292), np.float64(0.559106529209622), np.float64(0.2697594501718213), np.float64(0.0), np.float64(0.0), np.float64(0.1711340206185567)], [np.float64(-1.3027828044685235), np.float64(0.9325028825446671), np.float64(0.4712036633291357), np.float64(-0.18836572230362023), np.float64(-0.31738269216873627), np.float64(-0.36658125034207356), np.float64(-0.2925708117200186), np.float64(0.7484010897848299), np.float64(1.1675195339084088), np.float64(0.2854006586169045), np.float64(0.05653128430296377), np.float64(0.0), np.float64(0.45609220636663006), np.float64(0.20197585071350166)], [np.float64(0.8065007668504558), np.float64(-0.8065006771382939), np.float64(0.48099101486474094), np.float64(-0.5298352743802449), np.float64(-0.46190096537731384), np.float64(-0.33446769771402596), np.float64(-0.4604269232211375), np.float64(-0.5000845278144157), np.float64(-0.4743009878188329), np.float64(0.6233793836344315), np.float64(0.224442082890542), np.float64(0.0004250797024442083), np.float64(0.0), np.float64(0.15175345377258237)], [np.float64(0.30634401827245517), np.float64(-0.24906964443368326), np.float64(-1.4302649553462226), np.float64(6.55163482757607), np.float64(6.192788202030264), np.float64(6.031178428842965), np.float64(6.222540199828261), np.float64(0.4247149685156754), np.float64(0.15594974190263228), np.float64(0.4430379746835443), np.float64(0.3924050632911392), np.float64(0.0), np.float64(0.0759493670886076), np.float64(0.08860759493670886)], [np.float64(-0.6839531160108939), np.float64(1.0944663260384009), np.float64(-0.6735664394353438), np.float64(-0.37632004518290496), np.float64(-0.4041321818747007), np.float64(-0.422813200019787), np.float64(-0.44807019433098333), np.float64(-0.4574756724066724), np.float64(-0.80643124208615), np.float64(0.07182705718270571), np.float64(0.8713389121338913), np.float64(0.0), np.float64(0.03207810320781032), np.float64(0.024755927475592746)], [np.float64(0.1736972830281126), np.float64(-0.3608184308528002), np.float64(-0.010172629731563831), np.float64(0.14210548824603753), np.float64(-0.31066855729744025), np.float64(-0.29412724605606877), np.float64(-0.29403351661134586), np.float64(3.150028747406121), np.float64(2.308895650113061), np.float64(0.663323782234957), np.float64(0.0673352435530086), np.float64(0.0), np.float64(0.08452722063037249), np.float64(0.18481375358166188)]]\n",
            "Std:  [np.float64(1.3345069223200434), np.float64(0.7631684397319127), np.float64(0.678922121280479), np.float64(0.7617964249470938), np.float64(0.6749841228887132), np.float64(0.7899481113015715), np.float64(0.6269906934618135), np.float64(3.1825958048140395), np.float64(0.6836310807819052), np.float64(1.19812944925391)]\n",
            "times to converge:  50\n",
            "squared error for k= 9: 69463.45378566573\n",
            "mean:  [[np.float64(-1.1561732247887484), np.float64(1.1372702875536682), np.float64(1.065460026092421), np.float64(-0.49062316141218987), np.float64(-0.4575927595744906), np.float64(-0.4824894367030093), np.float64(-0.4635286070956232), np.float64(-0.6027597701797129), np.float64(-0.5981784207484859), np.float64(0.12392192464820699), np.float64(0.4067181116659101), np.float64(0.0), np.float64(0.3931003177485247), np.float64(0.07625964593735815)], [np.float64(0.806673785585736), np.float64(-0.806948067525339), np.float64(0.4832131908092368), np.float64(-0.5289219817825889), np.float64(-0.46170340608100663), np.float64(-0.335363137593538), np.float64(-0.4602172211323218), np.float64(-0.4956153899530478), np.float64(-0.470177594393197), np.float64(0.624973544973545), np.float64(0.22328042328042327), np.float64(0.0004232804232804233), np.float64(0.0), np.float64(0.15132275132275133)], [np.float64(-1.3053199995904425), np.float64(0.9339625674334161), np.float64(0.5167453407952255), np.float64(-0.19524146063237058), np.float64(-0.31361262746189356), np.float64(-0.3673382433714592), np.float64(-0.28953809114800666), np.float64(0.6977950714754503), np.float64(1.1235912759154807), np.float64(0.27296866702071165), np.float64(0.054168879447689854), np.float64(0.0), np.float64(0.46733935209771643), np.float64(0.2055231014338821)], [np.float64(0.7050127642108146), np.float64(-0.8242674721396487), np.float64(0.06960857563164873), np.float64(-0.19294118998108867), np.float64(-0.3186110235533419), np.float64(-0.36220531060057065), np.float64(-0.30002269638898665), np.float64(0.7007824725854778), np.float64(0.9931669622752416), np.float64(0.7793204238217026), np.float64(0.0679576178297406), np.float64(0.0010960906101571063), np.float64(0.0), np.float64(0.1516258677383997)], [np.float64(0.30634401827245517), np.float64(-0.24906964443368326), np.float64(-1.4302649553462226), np.float64(6.55163482757607), np.float64(6.192788202030264), np.float64(6.031178428842965), np.float64(6.222540199828261), np.float64(0.4247149685156754), np.float64(0.15594974190263228), np.float64(0.4430379746835443), np.float64(0.3924050632911392), np.float64(0.0), np.float64(0.0759493670886076), np.float64(0.08860759493670886)], [np.float64(0.32690430694749734), np.float64(-0.2984696922001206), np.float64(-0.9794019173925154), np.float64(2.352679054226729), np.float64(2.4728113484707372), np.float64(2.246667555110297), np.float64(2.4550529597813937), np.float64(0.16556402777181817), np.float64(0.11755855021266601), np.float64(0.48233995584988965), np.float64(0.3565121412803532), np.float64(0.0), np.float64(0.0684326710816777), np.float64(0.09271523178807947)], [np.float64(0.11993112715004921), np.float64(-0.3153783527311252), np.float64(-0.013084067027676822), np.float64(0.16016087694928838), np.float64(-0.29794804853545637), np.float64(-0.2805445032321899), np.float64(-0.27941105662403987), np.float64(3.162463806620767), np.float64(2.3177756509058085), np.float64(0.660431654676259), np.float64(0.06618705035971223), np.float64(0.0), np.float64(0.09064748201438849), np.float64(0.18273381294964028)], [np.float64(-0.6840379286616846), np.float64(1.0959372204527464), np.float64(-0.6984111844126211), np.float64(-0.3699802607033896), np.float64(-0.39827711901064566), np.float64(-0.4177188066027016), np.float64(-0.442568899257653), np.float64(-0.4487330919661857), np.float64(-0.8008617778808436), np.float64(0.07190931633014523), np.float64(0.8707049238398866), np.float64(0.0), np.float64(0.032235210768685796), np.float64(0.025150549061282324)], [np.float64(0.8619371848122248), np.float64(-0.831236683639575), np.float64(-0.559414792350243), np.float64(0.3745697224358934), np.float64(0.5520163040370336), np.float64(0.5830316537994602), np.float64(0.5452886929681521), np.float64(-0.25036565309329384), np.float64(-0.23081638187959452), np.float64(0.5590551181102362), np.float64(0.2697706264977747), np.float64(0.0), np.float64(0.0), np.float64(0.17117425539198905)], [np.float64(-1.1018222993547557), np.float64(1.0496902530023056), np.float64(-0.6707753955557091), np.float64(0.722503258166782), np.float64(0.7251978294671729), np.float64(0.6377124385896017), np.float64(0.7585760343571494), np.float64(0.013056019947893344), np.float64(-0.06393888391711923), np.float64(0.29011957205789807), np.float64(0.3996224040276904), np.float64(0.0), np.float64(0.19886721208307112), np.float64(0.11139081183134046)]]\n",
            "Std:  [np.float64(0.7620817334115544), np.float64(0.6265542399501208), np.float64(0.7837318271101735), np.float64(0.6833891486390721), np.float64(3.1825958048140395), np.float64(1.3335096109976206), np.float64(1.1996687557879107), np.float64(0.6838503734274913), np.float64(0.6737535383585487), np.float64(0.7631345406078484)]\n",
            "times to converge:  50\n",
            "squared error for k= 10: 69285.47851216198\n",
            "mean:  [[np.float64(0.18469206080381362), np.float64(-0.15651299891821743), np.float64(-0.992464623741437), np.float64(2.4974395158638742), np.float64(2.5901653047731683), np.float64(2.3559333495878803), np.float64(2.583054670954608), np.float64(0.20148514154900332), np.float64(0.12255518160057124), np.float64(0.45590062111801244), np.float64(0.37515527950310557), np.float64(0.0), np.float64(0.08571428571428572), np.float64(0.08322981366459627)], [np.float64(-1.3288753263584911), np.float64(0.9937511521326675), np.float64(1.0594437909105368), np.float64(-0.3631074334058818), np.float64(-0.3641329754768006), np.float64(-0.4272381130554541), np.float64(-0.3557119508647907), np.float64(-0.02105531945625427), np.float64(0.38354232128026355), np.float64(0.17924151696606785), np.float64(0.05389221556886228), np.float64(0.0), np.float64(0.5980039920159681), np.float64(0.1688622754491018)], [np.float64(0.3205925878939016), np.float64(-0.258252504800764), np.float64(-1.4521639309726246), np.float64(6.618563070066867), np.float64(6.262772550191874), np.float64(6.076171532049434), np.float64(6.234789004278498), np.float64(0.4415755943736995), np.float64(0.14255141963082546), np.float64(0.44155844155844154), np.float64(0.4025974025974026), np.float64(0.0), np.float64(0.06493506493506493), np.float64(0.09090909090909091)], [np.float64(0.9810379507522324), np.float64(-0.8643936195384941), np.float64(-0.7745360295636231), np.float64(-0.3083428702008709), np.float64(-0.26499686294441216), np.float64(-0.27072560835672826), np.float64(-0.29492578455990953), np.float64(-0.30443271793761434), np.float64(-0.5045708299223269), np.float64(0.34291754756871035), np.float64(0.41987315010570825), np.float64(0.0), np.float64(0.0), np.float64(0.2372093023255814)], [np.float64(0.6918431047465167), np.float64(-0.822847215917065), np.float64(0.1025577734146), np.float64(-0.11621023785880899), np.float64(-0.2779080792173376), np.float64(-0.3276650536505548), np.float64(-0.25824165472550215), np.float64(0.898518222175454), np.float64(1.2702111848892128), np.float64(0.781387181738367), np.float64(0.05487269534679543), np.float64(0.0013169446883230904), np.float64(0.0), np.float64(0.16242317822651448)], [np.float64(0.8190033223024074), np.float64(-0.8121355147054528), np.float64(-0.4847355417415384), np.float64(0.6079586943501463), np.float64(0.8195333244213642), np.float64(0.8592577684891473), np.float64(0.8301855304059936), np.float64(-0.20442023774707344), np.float64(-0.10060175862005838), np.float64(0.6300469483568075), np.float64(0.22769953051643194), np.float64(0.0), np.float64(0.0), np.float64(0.14225352112676057)], [np.float64(-0.5651781996569123), np.float64(0.292530726705728), np.float64(-0.01018243879726492), np.float64(0.03484935117620839), np.float64(-0.3701590766966539), np.float64(-0.3470213479047507), np.float64(-0.34573455190140395), np.float64(2.791162054921824), np.float64(2.1194571552795023), np.float64(0.5102040816326531), np.float64(0.07596371882086168), np.float64(0.0), np.float64(0.23356009070294784), np.float64(0.18027210884353742)], [np.float64(-0.7675549291918301), np.float64(1.1699709197825714), np.float64(-0.21211294410721407), np.float64(-0.447935613036199), np.float64(-0.4589726902834017), np.float64(-0.4758690126109674), np.float64(-0.49643551081290194), np.float64(-0.5811790999680676), np.float64(-0.8722111158618466), np.float64(0.05915975993140898), np.float64(0.8722492140611603), np.float64(0.0), np.float64(0.041726207487853675), np.float64(0.026864818519577022)], [np.float64(-1.0905284345477915), np.float64(1.031688279055126), np.float64(-0.7143384052611622), np.float64(0.5597176024348287), np.float64(0.5257714350916292), np.float64(0.45956584158938435), np.float64(0.5540646018088023), np.float64(0.09800304049323676), np.float64(-0.01794004352469635), np.float64(0.3209693372898121), np.float64(0.3961424332344214), np.float64(0.0), np.float64(0.1785361028684471), np.float64(0.10435212660731949)], [np.float64(0.7198360665986558), np.float64(-0.7782028303391856), np.float64(0.7987136837820449), np.float64(-0.5040667553310888), np.float64(-0.4384737070016655), np.float64(-0.290915226942042), np.float64(-0.4273330468557381), np.float64(-0.423825510141161), np.float64(-0.3371381059295508), np.float64(0.75325), np.float64(0.13225), np.float64(0.0005), np.float64(0.0), np.float64(0.114)]]\n",
            "Std:  [np.float64(1.3809656795313452), np.float64(0.761784222384807), np.float64(3.2022704388303556), np.float64(0.6471091077320208), np.float64(0.7206628820366648), np.float64(0.7123419012732756), np.float64(1.1455498751639512), np.float64(0.7130445945994291), np.float64(0.7342690318231233), np.float64(0.6098634387941507)]\n"
          ]
        },
        {
          "data": {
            "text/plain": [
              "[<matplotlib.lines.Line2D at 0x13fab3920>]"
            ]
          },
          "execution_count": 250,
          "metadata": {},
          "output_type": "execute_result"
        },
        {
          "data": {
            "image/png": "[encoded data removed]",
            "text/plain": [
              "<Figure size 640x480 with 1 Axes>"
            ]
          },
          "metadata": {},
          "output_type": "display_data"
        }
      ],
      "source": [
        "# Your code goes here\n",
        "import matplotlib.pyplot as plt\n",
        "import numpy as np\n",
        "\n",
        "clusters, centroids = k_means(data,2)\n",
        "\n",
        "xpoints1 = []\n",
        "ypoints1 = []\n",
        "\n",
        "xpoints2 = []\n",
        "ypoints2 = []\n",
        "\n",
        "# print(len(clusters))\n",
        "\n",
        "# for centroid in range(len(clusters)):\n",
        "#     for point in range(len(clusters[centroid])):\n",
        "#         if centroid == 0:\n",
        "#             xpoints1.append(clusters[centroid][point][0])\n",
        "#             ypoints1.append(clusters[centroid][point][1])\n",
        "#         else:\n",
        "#             xpoints2.append(clusters[centroid][point][0])\n",
        "#             ypoints2.append(clusters[centroid][point][1])\n",
        "\n",
        "# plt.scatter(xpoints1, ypoints1, color='red')\n",
        "# plt.scatter(xpoints2,ypoints2,color='blue')\n",
        "# plt.show()\n",
        "\n",
        "\n",
        "k_itr = 10\n",
        "\n",
        "sse_points = []\n",
        "k_points = []\n",
        "\n",
        "for k in range(3, k_itr+1):\n",
        "    clusters,centroids = k_means(data,k_itr)\n",
        "    squared_err = 0\n",
        "    std_dev = []\n",
        "    for centroid in range(len(clusters)):\n",
        "        for point in range(len(clusters[centroid])):\n",
        "            cen = centroids[centroid]\n",
        "            point = clusters[centroid][point]\n",
        "            squared_err += math.pow(euclidean_distance(cen,point),2)\n",
        "        std_dev.append(np.std(clusters[centroid]))\n",
        "    sse_points.append(squared_err)\n",
        "    k_points.append(k)\n",
        "    print(\"squared error for k= \" + str(k) + \": \" + str(squared_err))\n",
        "    print(\"mean: \",centroids)\n",
        "    print(\"Std: \", std_dev)\n",
        "\n",
        "plt.plot(k_points, sse_points)\n",
        "# Your paragraph goes here for this section"
      ]
    },
    {
      "cell_type": "markdown",
      "metadata": {
        "id": "NZ4QG5s-3_tz"
      },
      "source": [
        "- - -\n",
        "## 4. WRITING ON THE INTUITION FOR THE CALIFORNIA HOUSING CRISIS (10 pts)\n",
        "\n",
        "This question is a qualitative one, and is intended to let you experiment with a real world clustering task. Hopefully it gives you some intuition as for how the preset number of clusters affects the clustering results. Too few clusters may not reveal the information that is in the data. Too many clusters may hurt data analysis as well, as it may not generalize (and in this sense, it is equivalent to over fitting).\n",
        "\n",
        "Write at least one paragraph to demonstrate your intuition on the California Housing Crisis. You might also want to mention some possible solutions to solve it. You will receive credits based upon your insights and intuitions on this challenge.\n",
        "\n"
      ]
    },
    {
      "cell_type": "markdown",
      "metadata": {},
      "source": [
        "It seems as though there are a couple areas where the housing prices skyrocket and this is an issue for the residents of the area. The cause of this could be a multitude of factors, including high demand, and limited supply in desirable housing areas. Those areas include the ones near the bay, major cities, and silicon valley. Some possible solutions could be to change zoning laws so there's more residential areas, which could increase supply. If that's not a possible solution, we could look at changing the current residential areas to higher density residential areas, which would have the same effect as increasing supply."
      ]
    },
    {
      "cell_type": "markdown",
      "metadata": {
        "id": "5yfa4aHc3_tz"
      },
      "source": [
        "- - -\n",
        "### NEED HELP?"
      ]
    },
    {
      "cell_type": "markdown",
      "metadata": {
        "id": "gBgdTs583_t0"
      },
      "source": [
        "In case you get stuck in any step in the process, you may find some useful information from:\n",
        "\n",
        " * Consult my lectures and/or the textbook\n",
        " * Talk to the TA, they are available and there to help you during their OH.\n",
        " * Come talk to me or email me <nn4pj@virginia.edu> with subject starting \"CS4774 Assignment 2:...\".\n",
        "\n",
        "Best of luck and have fun!"
      ]
    }
  ],
  "metadata": {
    "colab": {
      "include_colab_link": true,
      "provenance": []
    },
    "kernelspec": {
      "display_name": "Python 3",
      "language": "python",
      "name": "python3"
    },
    "language_info": {
      "codemirror_mode": {
        "name": "ipython",
        "version": 3
      },
      "file_extension": ".py",
      "mimetype": "text/x-python",
      "name": "python",
      "nbconvert_exporter": "python",
      "pygments_lexer": "ipython3",
      "version": "3.12.3"
    }
  },
  "nbformat": 4,
  "nbformat_minor": 0
}
